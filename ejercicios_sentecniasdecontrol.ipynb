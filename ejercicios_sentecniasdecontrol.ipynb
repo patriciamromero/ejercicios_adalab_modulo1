{
 "cells": [
  {
   "cell_type": "markdown",
   "metadata": {},
   "source": [
    "1. Crea las siguientes variables:\n",
    "\n",
    "  - `var1` sea un número con el valor `8`.\n",
    "\n",
    "  - `var2` sea un número con el valor `2`.\n",
    "\n",
    "  - `var3` sea un número con el valor `8`."
   ]
  },
  {
   "cell_type": "code",
   "execution_count": 1,
   "metadata": {},
   "outputs": [],
   "source": [
    "var1 = 8\n",
    "var2 = 2\n",
    "var3 = 8"
   ]
  },
  {
   "cell_type": "markdown",
   "metadata": {},
   "source": [
    "2. Comprueba si `var1` es mayor que 6, y si es así imprime `¡Es enorme!`."
   ]
  },
  {
   "cell_type": "code",
   "execution_count": 3,
   "metadata": {},
   "outputs": [
    {
     "name": "stdout",
     "output_type": "stream",
     "text": [
      "¡Es enorme!\n"
     ]
    }
   ],
   "source": [
    "if var1 > 6:\n",
    "    print(\"¡Es enorme!\")"
   ]
  },
  {
   "cell_type": "markdown",
   "metadata": {},
   "source": [
    "3. Comprueba si `var2` es mayor que 6, y si es así imprime `¡Es enorme también!`."
   ]
  },
  {
   "cell_type": "code",
   "execution_count": 4,
   "metadata": {},
   "outputs": [],
   "source": [
    "if var2 > 6: \n",
    "    print(\"Es enorme también\")"
   ]
  },
  {
   "cell_type": "markdown",
   "metadata": {},
   "source": [
    "4. Comprueba si `var3` es mayor que 6, y si es así imprime `¡Es enorme!` seguido por `¡Pero de verdad!` en otra línea (deberéis tener dos *print*)."
   ]
  },
  {
   "cell_type": "code",
   "execution_count": 5,
   "metadata": {},
   "outputs": [
    {
     "name": "stdout",
     "output_type": "stream",
     "text": [
      "¡Es enorme!\n",
      "¡Pero de verdad!\n"
     ]
    }
   ],
   "source": [
    "if var3 > 6: \n",
    "    print(\"¡Es enorme!\")\n",
    "    print(\"¡Pero de verdad!\")"
   ]
  },
  {
   "cell_type": "markdown",
   "metadata": {},
   "source": [
    "5. Comprueba si `var1` es igual que `var3`, y si es así imprime `Son iguales.`.\n"
   ]
  },
  {
   "cell_type": "code",
   "execution_count": 6,
   "metadata": {},
   "outputs": [
    {
     "name": "stdout",
     "output_type": "stream",
     "text": [
      "Son iguales\n"
     ]
    }
   ],
   "source": [
    "if var1 == var3:\n",
    "    print(\"Son iguales\")"
   ]
  },
  {
   "cell_type": "markdown",
   "metadata": {},
   "source": [
    "6. Comprueba si `var1` es igual que `var2`, y si es así imprime `Son iguales."
   ]
  },
  {
   "cell_type": "code",
   "execution_count": 7,
   "metadata": {},
   "outputs": [],
   "source": [
    "if var1 == var2:\n",
    "    print(\"Son iguales\")"
   ]
  },
  {
   "cell_type": "markdown",
   "metadata": {},
   "source": [
    "7. Comprueba si `var1` es mayor o igual que `var2`, y si es así calcula la diferencia entre `var1` y `var2`, guardala en la variable `dif`, e imprime `'La diferencia es',dif`."
   ]
  },
  {
   "cell_type": "code",
   "execution_count": 12,
   "metadata": {},
   "outputs": [
    {
     "name": "stdout",
     "output_type": "stream",
     "text": [
      "La diferencia es 6\n"
     ]
    }
   ],
   "source": [
    "if var1 >= var2: \n",
    "    dif = var1-var2\n",
    "    print(\"La diferencia es \" + str(dif))\n"
   ]
  },
  {
   "cell_type": "markdown",
   "metadata": {},
   "source": [
    "8. Comprueba si `var1` es mayor que 6, y si es así imprime `¡Es enorme!`. Si no es así imprime `Es chiquitín.`."
   ]
  },
  {
   "cell_type": "code",
   "execution_count": 13,
   "metadata": {},
   "outputs": [
    {
     "name": "stdout",
     "output_type": "stream",
     "text": [
      "¡Es enorme!\n"
     ]
    }
   ],
   "source": [
    "if var1 > 6: \n",
    "    print(\"¡Es enorme!\")\n",
    "else: \n",
    "    print(\"Es chiquitín\")"
   ]
  },
  {
   "cell_type": "markdown",
   "metadata": {},
   "source": [
    "9. Comprueba si `var2` es mayor que 6, y si es así imprime `¡Es enorme también!`. Si no es así imprime `Es chiquitín también.`."
   ]
  },
  {
   "cell_type": "code",
   "execution_count": 14,
   "metadata": {},
   "outputs": [
    {
     "name": "stdout",
     "output_type": "stream",
     "text": [
      "Es chiqutín también\n"
     ]
    }
   ],
   "source": [
    "if var2 > 6: \n",
    "    print(\"'Es enorme también!\")\n",
    "else: \n",
    "    print(\"Es chiqutín también\")"
   ]
  },
  {
   "cell_type": "markdown",
   "metadata": {},
   "source": [
    "10. Comprueba si `var1` es igual a `var3`, y si es así imprime `Son iguales.` Si no es así imprime `Son distintos.`"
   ]
  },
  {
   "cell_type": "code",
   "execution_count": 15,
   "metadata": {},
   "outputs": [
    {
     "name": "stdout",
     "output_type": "stream",
     "text": [
      "Son iguales\n"
     ]
    }
   ],
   "source": [
    "if var1 == var3: \n",
    "    print(\"Son iguales\")\n",
    "else: \n",
    "    print(\"Son distintos\")"
   ]
  },
  {
   "cell_type": "markdown",
   "metadata": {},
   "source": [
    "11. Escribe un programa para una empresa que tiene salas de juegos para todas las edades y quiere calcular de forma automática el precio que debe cobrar a sus clientes por entrar. El programa debe preguntar al usuario:\n",
    "\n",
    "    - La edad del cliente. \n",
    "    - Las condiciones que tendremos que chequear: \n",
    "\n",
    "      - Si el cliente es menor de 4 años puede entrar gratis, \n",
    "\n",
    "      - Si tiene entre 4 y 18 años debe pagar 5€ y \n",
    "\n",
    "      - Si es mayor de 18 años, 10€."
   ]
  },
  {
   "cell_type": "code",
   "execution_count": 34,
   "metadata": {},
   "outputs": [
    {
     "name": "stdout",
     "output_type": "stream",
     "text": [
      "Debe pagar 10€\n"
     ]
    }
   ],
   "source": [
    "edad = input()\n",
    "edad = int(edad)\n",
    "\n",
    "if edad < 4: \n",
    "    print(\"Puede entrar gratis\")\n",
    "elif edad > 4 and edad < 18: \n",
    "    print(\"Debe pagar 5€\")\n",
    "else: \n",
    "    print(\"Debe pagar 10€\")\n",
    "\n",
    "\n",
    "\n"
   ]
  },
  {
   "cell_type": "markdown",
   "metadata": {},
   "source": [
    "12. Inicia la varible `ahorros` con un valor de `5`. Crea un bucle while que mientras los ahorros sean igual o menor que `20` imprima por pantalla la cantidad de ahorros que tenemos, y añádele `5` más. Cuando la variable ahorros supere el valor de 20 el bucle deberá parar. "
   ]
  },
  {
   "cell_type": "code",
   "execution_count": 36,
   "metadata": {},
   "outputs": [
    {
     "name": "stdout",
     "output_type": "stream",
     "text": [
      "5\n",
      "10\n",
      "20\n"
     ]
    }
   ],
   "source": [
    "ahorros = 5\n",
    "\n",
    "while ahorros <= 20 : \n",
    "     print(ahorros)\n",
    "     ahorros += ahorros"
   ]
  },
  {
   "cell_type": "markdown",
   "metadata": {},
   "source": [
    "13. Escribe un programa que convierta grados Celsius a grados Fahrenheit o viceversa, según la elección del usuario. Para eso tendrás que preguntar: \n",
    "\n",
    "  - Desde que unidades va a convertir la temperatura, Celsius o Fahrenheit. \n",
    "\n",
    "  - Cuál es valor de la temperatura que quiere convertir. "
   ]
  },
  {
   "cell_type": "code",
   "execution_count": 14,
   "metadata": {},
   "outputs": [
    {
     "name": "stdout",
     "output_type": "stream",
     "text": [
      "La temperatura equivale a 46.4 grados Fahrenheit.\n"
     ]
    }
   ],
   "source": [
    "#usuario indica cantidad\n",
    "unidad = input()\n",
    "\n",
    "if unidad == \"Celsius\":\n",
    "    #pregunto temperatura\n",
    "    temperatura = input()\n",
    "    temperatura = int(temperatura)\n",
    "    #se convierte e indica equivalente \n",
    "    print(\"La temperatura equivale a \" + str(((temperatura*9)/5)+32) + \" grados Fahrenheit.\")\n",
    "elif unidad == \"Fahrenheit\": \n",
    "    #pregunto temperatura\n",
    "    temperatura = input()\n",
    "    temperatura = int(temperatura)\n",
    "    #se convierte e inica equuivalente \n",
    "    print(\"La temperatura equivale a \" + str(((temperatura - 32)*5)/9 )+ \" grados Celsius.\")\n",
    "else: \n",
    "    print(\"Unidad no válida\")"
   ]
  },
  {
   "cell_type": "markdown",
   "metadata": {},
   "source": [
    "14.  Crea un programa que calcule el impuesto sobre la renta de una persona basado en su ingreso anual y su estado civil (soltero o casado). Para eso deberás: \n",
    "\n",
    "  - Solicitar al usuario su ingreso anual.\n",
    "\n",
    "  - Preguntar al usuario su estado civil, permitiendo dos opciones: \"soltero\" (S) o \"casado\" (C).\n",
    "\n",
    "  - Calcular el impuesto sobre la renta utilizando las siguientes reglas:\n",
    "\n",
    "    - Si el estado civil es \"soltero\" (S):\n",
    "\n",
    "      - Si el ingreso anual es menor o igual a $9,875, el impuesto es el 10% del ingreso anual.\n",
    "\n",
    "      - Si el ingreso anual está entre $9,876 y $40,125, el impuesto es el 10% de los primeros $9,875 más el 12% de la cantidad que excede los $9,875.\n",
    "     \n",
    "\n",
    "    - Si el estado civil es \"casado\" (C):\n",
    "    \n",
    "      - Si el ingreso anual es menor o igual a $19,850, el impuesto es el 10% del ingreso anual.\n",
    "\n",
    "      - Si el ingreso anual está entre $19,851 y $80,250, el impuesto es el 10% de los primeros $19,850 más el 12% de la cantidad que excede los $19,850.\n",
    "    "
   ]
  },
  {
   "cell_type": "code",
   "execution_count": 104,
   "metadata": {},
   "outputs": [
    {
     "name": "stdout",
     "output_type": "stream",
     "text": [
      "Tienes que pagar 3970.0€ de IRPF.\n"
     ]
    }
   ],
   "source": [
    "# usuario indica ingresos\n",
    "ingreso = input()\n",
    "#convertimos a int\n",
    "ingreso =int(ingreso)\n",
    "#usuario indica estado civil \n",
    "estado_civil = input()\n",
    "S = \"soltero\"\n",
    "C = \"casado\"\n",
    "impuesto1 = 10\n",
    "impuesto2 = 12\n",
    "\n",
    "if estado_civil == S: \n",
    "    if ingreso <= 9875: \n",
    "        impuesto1 = 10\n",
    "        print(\"Tienes que pagar \" + str(ingreso * (impuesto1/100)) + \"€ de IRPF.\")\n",
    "    if ingreso >= 9876 and ingreso <= 40125:\n",
    "        #calculo primer tramo\n",
    "        calculo1= 9876 * (impuesto1/100)\n",
    "        #calculo segundo tramo\n",
    "        calculo2= (ingreso - 9876) * (impuesto2/100)\n",
    "        #calculo total\n",
    "        a_pagar = calculo1 + calculo1\n",
    "        print(\"Tienes que pagar \" + str(a_pagar) + \"€ de IRPF.\")\n",
    "if estado_civil == C:\n",
    "    if ingreso <= 19850: \n",
    "        impuesto1 = 10\n",
    "        print(\"Tienes que pagar \" + str(ingreso * (impuesto1/100)) + \"€ de IRPF.\")\n",
    "    if ingreso > 19851 and ingreso < 80250:\n",
    "        #calculo primer tramo\n",
    "        calculo1= 19850 * (impuesto1/100)\n",
    "        #calculo segundo tramo\n",
    "        calculo2= (ingreso - 19850) * (impuesto2/100)\n",
    "        #calculo total\n",
    "        a_pagar = calculo1 + calculo1\n",
    "        print(\"Tienes que pagar \" + str(a_pagar) + \"€ de IRPF.\")"
   ]
  },
  {
   "cell_type": "code",
   "execution_count": null,
   "metadata": {},
   "outputs": [],
   "source": [
    "#codigo refactorizado en clase:\n",
    "\n",
    "# 1. usuario indica ingresos y convertimos a integer\n",
    "ingreso =int(input \"¿Cuánto ganas?\")\n",
    "# 2. usuario indica estado civil \n",
    "estado_civil = input(\" S= Soltero, C= Casado\")\n",
    "#otra posibilidad: estado_civil = input(\" S= Soltero, C= Casado\").upper\n",
    "\n",
    "#evaluamos condiciones: \n",
    "\n",
    "if estado_civil.upper() == \"S\": \n",
    "\n",
    "    if ingreso <= 9875: \n",
    "        impuesto = ingreso * 0.10\n",
    "        print(\"Tienes que pagar \" + impuesto + \"€ de IRPF.\")\n",
    "\n",
    "    elif ingreso <= 40125:\n",
    "        #calculo primer tramo\n",
    "        calculo1= 9875 * 0,10\n",
    "        #calculo segundo tramo\n",
    "        calculo2= (ingreso - 9876) * 0.12\n",
    "        #calculo total\n",
    "        impuesto = calculo1 + calculo2\n",
    "        print(\"Tienes que pagar \" + str(impuesto) + \"€ de IRPF.\")\n",
    "    else: \n",
    "        print(\"Ganas mucho dinero\")\n",
    "\n",
    "elif estado_civil == C:\n",
    "\n",
    "    if ingreso <= 19850: \n",
    "        impuesto = ingreso * 0,10\n",
    "        print(\"Tienes que pagar \" + str(impuesto) + \"€ de IRPF.\")\n",
    "\n",
    "    elif ingreso < 80250:\n",
    "        #calculo primer tramo\n",
    "        calculo1= 19850 * 0.10\n",
    "        #calculo segundo tramo\n",
    "        calculo2= (ingreso - 19850) * 0.12\n",
    "        #calculo total\n",
    "        impuesto = calculo1 + calculo1\n",
    "        print(\"Tienes que pagar \" + str(impuesto) + \"€ de IRPF.\")\n",
    "    else: \n",
    "        print(\"Ganas mucho dinero\")\n",
    "        \n",
    "else: \n",
    "    print(\"Error\")"
   ]
  },
  {
   "cell_type": "code",
   "execution_count": 16,
   "metadata": {},
   "outputs": [
    {
     "name": "stdout",
     "output_type": "stream",
     "text": [
      "The Zen of Python, by Tim Peters\n",
      "\n",
      "Beautiful is better than ugly.\n",
      "Explicit is better than implicit.\n",
      "Simple is better than complex.\n",
      "Complex is better than complicated.\n",
      "Flat is better than nested.\n",
      "Sparse is better than dense.\n",
      "Readability counts.\n",
      "Special cases aren't special enough to break the rules.\n",
      "Although practicality beats purity.\n",
      "Errors should never pass silently.\n",
      "Unless explicitly silenced.\n",
      "In the face of ambiguity, refuse the temptation to guess.\n",
      "There should be one-- and preferably only one --obvious way to do it.\n",
      "Although that way may not be obvious at first unless you're Dutch.\n",
      "Now is better than never.\n",
      "Although never is often better than *right* now.\n",
      "If the implementation is hard to explain, it's a bad idea.\n",
      "If the implementation is easy to explain, it may be a good idea.\n",
      "Namespaces are one honking great idea -- let's do more of those!\n"
     ]
    }
   ],
   "source": [
    "import this"
   ]
  },
  {
   "cell_type": "markdown",
   "metadata": {},
   "source": [
    "15. Crea un programa que evalúe el nivel de contaminación del aire en función de la concentración de partículas en suspensión (PM2.5) en microgramos por metro cúbico (µg/m³). Para eso deberás: \n",
    "\n",
    "  - Solicita al usuario que ingrese la concentración de PM2.5 en el aire en µg/m³. El usuario debe ingresar un valor numérico.\n",
    "\n",
    "  - Evalua el nivel de contaminación del aire según la siguiente escala:\n",
    "\n",
    "    - Si la concentración de PM2.5 es menor o igual a 12 µg/m³, el aire se considera \"Excelente\".\n",
    "\n",
    "    - Si la concentración de PM2.5 está entre 13 µg/m³ y 35 µg/m³, el aire se considera \"Bueno\".\n",
    "\n",
    "    - Si la concentración de PM2.5 está entre 36 µg/m³ y 55 µg/m³, el aire se considera \"Aceptable\".\n",
    "\n",
    "    - Si la concentración de PM2.5 está entre 56 µg/m³ y 150 µg/m³, el aire se considera \"No Saludable para Grupos Sensibles\".\n",
    "\n",
    "    - Si la concentración de PM2.5 es mayor a 150 µg/m³, el aire se considera \"No Saludable\".\n",
    "\n",
    "  - Muestra un mensaje indicando el estado de la calidad del aire. Por ejemplo, si la concentración de PM2.5 es 25 µg/m³, el programa debe mostrar: \"La calidad del aire es Buena\".\n",
    "\n",
    "  -  Además, si la concentración de PM2.5 está en la categoría \"No Saludable para Grupos Sensibles\" o \"No Saludable\", el programa debe advertir al usuario sobre los posibles efectos en la salud.\n",
    "\n",
    "  - Si la concentración ingresada por el usuario es negativa o no es un número válido, el programa debe mostrar un mensaje de error."
   ]
  },
  {
   "cell_type": "code",
   "execution_count": null,
   "metadata": {},
   "outputs": [],
   "source": []
  },
  {
   "cell_type": "code",
   "execution_count": 4,
   "metadata": {},
   "outputs": [
    {
     "ename": "SyntaxError",
     "evalue": "invalid syntax (4222406026.py, line 20)",
     "output_type": "error",
     "traceback": [
      "\u001b[0;36m  File \u001b[0;32m\"/var/folders/z0/ptwngvg97wndky1th_f_rz8r0000gp/T/ipykernel_14102/4222406026.py\"\u001b[0;36m, line \u001b[0;32m20\u001b[0m\n\u001b[0;31m    elif:\u001b[0m\n\u001b[0m        ^\u001b[0m\n\u001b[0;31mSyntaxError\u001b[0m\u001b[0;31m:\u001b[0m invalid syntax\n"
     ]
    }
   ],
   "source": [
    "#solicito a usario que indique nivel de contaminación en el aire\n",
    "contaminación = input()\n",
    "contaminación = int(contaminación)\n",
    "\n",
    "\n",
    "\n",
    "\n",
    "#evaluio el nivel de contaminación \n",
    "if contaminación < 0: \n",
    "    print(\"Cantidad no válida. Revise la información.\")\n",
    "    mensaje = 0\n",
    "elif contaminación <= 12: \n",
    "    mensaje = \"Excelente\"\n",
    "elif contaminación > 13 and contaminación < 35:\n",
    "    mensaje = \"Bueno\"\n",
    "elif contaminación > 36 and contaminación < 55: \n",
    "   mensaje = \"Aceptable\"\n",
    "elif contaminación > 56 and contaminación < 150: \n",
    "    mensaje = \"No saludable para grupos sensibles. Efectos negativos en la salud\"\n",
    "elif:\n",
    "    mensaje = \"No saludable. Efectos negativos en la salud\"\n",
    "if mensaje != 0:\n",
    "    print(\"La calidad del aire es: \" + mensaje + \".\" )\n"
   ]
  }
 ],
 "metadata": {
  "kernelspec": {
   "display_name": "base",
   "language": "python",
   "name": "python3"
  },
  "language_info": {
   "codemirror_mode": {
    "name": "ipython",
    "version": 3
   },
   "file_extension": ".py",
   "mimetype": "text/x-python",
   "name": "python",
   "nbconvert_exporter": "python",
   "pygments_lexer": "ipython3",
   "version": "3.9.7"
  }
 },
 "nbformat": 4,
 "nbformat_minor": 2
}
