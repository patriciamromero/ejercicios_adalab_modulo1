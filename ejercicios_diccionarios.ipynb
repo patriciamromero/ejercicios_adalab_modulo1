{
 "cells": [
  {
   "cell_type": "markdown",
   "metadata": {},
   "source": [
    "1. Crea el diccionario `festivos` con las fechas como claves y los nombres como valores: 01/01: Año Nuevo, 06/01: Epifanía del Señor, 15/04: Viernes Santo, 15/08: Asunción de la Virgen, 12/10: Fiesta Nacional de España, 01/11: Todos los Santos, 06/12: Día de la Constitución Española, y 08/12: Inmaculada Concepción.\n"
   ]
  },
  {
   "cell_type": "code",
   "execution_count": 2,
   "metadata": {},
   "outputs": [],
   "source": [
    "festivos = {\"01/01\":\"Año Nuevo\", \"06/01\":\"Epifanía del Señor\", \"15/04\":\"Viernes Santo\", \"15/08\":\"Asunción de la Virgen\", \"12/10\":\"Fiesta Nacional de España\", \"01/11\":\"Todos los Santos\", \"06/12\":\"Día de la Constitución Española\", \"08/12\":\"Inmaculada Concepción\"}"
   ]
  },
  {
   "cell_type": "code",
   "execution_count": 3,
   "metadata": {},
   "outputs": [
    {
     "name": "stdout",
     "output_type": "stream",
     "text": [
      "{'01/01': 'Año Nuevo', '06/01': 'Epifanía del Señor', '15/04': 'Viernes Santo', '15/08': 'Asunción de la Virgen', '12/10': 'Fiesta Nacional de España', '01/11': 'Todos los Santos', '06/12': 'Día de la Constitución Española', '08/12': 'Inmaculada Concepción'}\n"
     ]
    }
   ],
   "source": [
    "print(festivos)"
   ]
  },
  {
   "cell_type": "markdown",
   "metadata": {},
   "source": [
    "2. Crea el diccionario `monarcas` con los países como claves y los nombres como valores: Bélgica: Philippe, Dinamarca: Margrethe II, Holanda: Beatrix, Noruega: Harald V, España: Felipe VI, Reino Unido: Carlos III.\n"
   ]
  },
  {
   "cell_type": "code",
   "execution_count": 4,
   "metadata": {},
   "outputs": [],
   "source": [
    "monarcas = { \"Bélgica\": \"Philippe\", \"Dinamarca\": \"Margrethe II\", \"Holanda\": \"Beatrix\", \"Noruega\": \"Harald V\", \"España\": \"Felipe VI\", \"Reino Unido\": \"Carlos III\"}"
   ]
  },
  {
   "cell_type": "code",
   "execution_count": 5,
   "metadata": {},
   "outputs": [
    {
     "name": "stdout",
     "output_type": "stream",
     "text": [
      "{'Bélgica': 'Philippe', 'Dinamarca': 'Margrethe II', 'Holanda': 'Beatrix', 'Noruega': 'Harald V', 'España': 'Felipe VI', 'Reino Unido': 'Carlos III'}\n"
     ]
    }
   ],
   "source": [
    "print(monarcas)"
   ]
  },
  {
   "cell_type": "markdown",
   "metadata": {},
   "source": [
    "3. ¿Qué festivo hay el 15/04?"
   ]
  },
  {
   "cell_type": "code",
   "execution_count": 6,
   "metadata": {},
   "outputs": [
    {
     "data": {
      "text/plain": [
       "'Viernes Santo'"
      ]
     },
     "execution_count": 6,
     "metadata": {},
     "output_type": "execute_result"
    }
   ],
   "source": [
    "festivos.get(\"15/04\")"
   ]
  },
  {
   "cell_type": "markdown",
   "metadata": {},
   "source": [
    "4. La reina `'Beatrix'` abdicó, ahora es el rey `'Willem-Alexander'`. Actualiza el dict."
   ]
  },
  {
   "cell_type": "code",
   "execution_count": 7,
   "metadata": {},
   "outputs": [],
   "source": [
    "monarcas[\"Holanda\"] = \"Willem-Alexander\""
   ]
  },
  {
   "cell_type": "code",
   "execution_count": 8,
   "metadata": {},
   "outputs": [
    {
     "name": "stdout",
     "output_type": "stream",
     "text": [
      "{'Bélgica': 'Philippe', 'Dinamarca': 'Margrethe II', 'Holanda': 'Willem-Alexander', 'Noruega': 'Harald V', 'España': 'Felipe VI', 'Reino Unido': 'Carlos III'}\n"
     ]
    }
   ],
   "source": [
    "print(monarcas)"
   ]
  },
  {
   "cell_type": "markdown",
   "metadata": {},
   "source": [
    "5. El rey de Luxemburgo se llama `Henri`. Añadelo al dict usando `.update()`. "
   ]
  },
  {
   "cell_type": "code",
   "execution_count": 9,
   "metadata": {},
   "outputs": [],
   "source": [
    "monarcas.update({\"Luxemburgo\" : \"Henri\"})"
   ]
  },
  {
   "cell_type": "code",
   "execution_count": 10,
   "metadata": {},
   "outputs": [
    {
     "name": "stdout",
     "output_type": "stream",
     "text": [
      "{'Bélgica': 'Philippe', 'Dinamarca': 'Margrethe II', 'Holanda': 'Willem-Alexander', 'Noruega': 'Harald V', 'España': 'Felipe VI', 'Reino Unido': 'Carlos III', 'Luxemburgo': 'Henri'}\n"
     ]
    }
   ],
   "source": [
    "print(monarcas)"
   ]
  },
  {
   "cell_type": "markdown",
   "metadata": {},
   "source": [
    " 6. ¿Cuántos países están definidos en `monarcas`?"
   ]
  },
  {
   "cell_type": "code",
   "execution_count": 11,
   "metadata": {},
   "outputs": [
    {
     "data": {
      "text/plain": [
       "7"
      ]
     },
     "execution_count": 11,
     "metadata": {},
     "output_type": "execute_result"
    }
   ],
   "source": [
    "len(monarcas)"
   ]
  },
  {
   "cell_type": "markdown",
   "metadata": {},
   "source": [
    " 7. ¿Es `'Monaco'` uno de ellos?"
   ]
  },
  {
   "cell_type": "code",
   "execution_count": 12,
   "metadata": {},
   "outputs": [
    {
     "name": "stdout",
     "output_type": "stream",
     "text": [
      "None\n"
     ]
    }
   ],
   "source": [
    "print(monarcas.get(\"Monaco\"))"
   ]
  },
  {
   "cell_type": "markdown",
   "metadata": {},
   "source": [
    "8. ¿Es verdad que nos olvidamos de poner `'Suecia'`? Compruébalo de una manera en que obtengas un `True` o `False`."
   ]
  },
  {
   "cell_type": "code",
   "execution_count": 13,
   "metadata": {},
   "outputs": [
    {
     "name": "stdout",
     "output_type": "stream",
     "text": [
      "False\n"
     ]
    }
   ],
   "source": [
    "print( \"Suecia\" in monarcas)"
   ]
  },
  {
   "cell_type": "markdown",
   "metadata": {},
   "source": [
    "9. Saca una **lista** de todos los países en el dict `monarcas`."
   ]
  },
  {
   "cell_type": "code",
   "execution_count": 14,
   "metadata": {},
   "outputs": [
    {
     "data": {
      "text/plain": [
       "dict_keys(['Bélgica', 'Dinamarca', 'Holanda', 'Noruega', 'España', 'Reino Unido', 'Luxemburgo'])"
      ]
     },
     "execution_count": 14,
     "metadata": {},
     "output_type": "execute_result"
    }
   ],
   "source": [
    "monarcas.keys()"
   ]
  },
  {
   "cell_type": "markdown",
   "metadata": {},
   "source": [
    "10. Saca una **lista** de los nombres de los festivos."
   ]
  },
  {
   "cell_type": "code",
   "execution_count": 15,
   "metadata": {},
   "outputs": [
    {
     "data": {
      "text/plain": [
       "['Año Nuevo',\n",
       " 'Epifanía del Señor',\n",
       " 'Viernes Santo',\n",
       " 'Asunción de la Virgen',\n",
       " 'Fiesta Nacional de España',\n",
       " 'Todos los Santos',\n",
       " 'Día de la Constitución Española',\n",
       " 'Inmaculada Concepción']"
      ]
     },
     "execution_count": 15,
     "metadata": {},
     "output_type": "execute_result"
    }
   ],
   "source": [
    "list(festivos.values())"
   ]
  },
  {
   "cell_type": "markdown",
   "metadata": {},
   "source": [
    " 11. Imprime el diccionario de festivos."
   ]
  },
  {
   "cell_type": "code",
   "execution_count": 16,
   "metadata": {},
   "outputs": [
    {
     "name": "stdout",
     "output_type": "stream",
     "text": [
      "{'01/01': 'Año Nuevo', '06/01': 'Epifanía del Señor', '15/04': 'Viernes Santo', '15/08': 'Asunción de la Virgen', '12/10': 'Fiesta Nacional de España', '01/11': 'Todos los Santos', '06/12': 'Día de la Constitución Española', '08/12': 'Inmaculada Concepción'}\n"
     ]
    }
   ],
   "source": [
    "print(festivos)"
   ]
  },
  {
   "cell_type": "markdown",
   "metadata": {},
   "source": [
    "12. Imprime una **lista de tuplas** de todos los elementos que hay en festivos."
   ]
  },
  {
   "cell_type": "code",
   "execution_count": 17,
   "metadata": {},
   "outputs": [
    {
     "name": "stdout",
     "output_type": "stream",
     "text": [
      "dict_items([('01/01', 'Año Nuevo'), ('06/01', 'Epifanía del Señor'), ('15/04', 'Viernes Santo'), ('15/08', 'Asunción de la Virgen'), ('12/10', 'Fiesta Nacional de España'), ('01/11', 'Todos los Santos'), ('06/12', 'Día de la Constitución Española'), ('08/12', 'Inmaculada Concepción')])\n"
     ]
    }
   ],
   "source": [
    "print(festivos.items())"
   ]
  },
  {
   "cell_type": "markdown",
   "metadata": {},
   "source": [
    "13. Copia `monarcas` a `monarcas2010`."
   ]
  },
  {
   "cell_type": "code",
   "execution_count": 18,
   "metadata": {},
   "outputs": [
    {
     "name": "stdout",
     "output_type": "stream",
     "text": [
      "{'Bélgica': 'Philippe', 'Dinamarca': 'Margrethe II', 'Holanda': 'Willem-Alexander', 'Noruega': 'Harald V', 'España': 'Felipe VI', 'Reino Unido': 'Carlos III', 'Luxemburgo': 'Henri'}\n"
     ]
    }
   ],
   "source": [
    "monarcas2010 = monarcas.copy()\n",
    "print(monarcas2010)"
   ]
  },
  {
   "cell_type": "markdown",
   "metadata": {},
   "source": [
    "14. Quita España de `monarcas2010`."
   ]
  },
  {
   "cell_type": "code",
   "execution_count": 19,
   "metadata": {},
   "outputs": [
    {
     "data": {
      "text/plain": [
       "'Felipe VI'"
      ]
     },
     "execution_count": 19,
     "metadata": {},
     "output_type": "execute_result"
    }
   ],
   "source": [
    "monarcas2010.pop(\"España\")"
   ]
  },
  {
   "cell_type": "code",
   "execution_count": 20,
   "metadata": {},
   "outputs": [
    {
     "name": "stdout",
     "output_type": "stream",
     "text": [
      "{'Bélgica': 'Philippe', 'Dinamarca': 'Margrethe II', 'Holanda': 'Willem-Alexander', 'Noruega': 'Harald V', 'Reino Unido': 'Carlos III', 'Luxemburgo': 'Henri'}\n"
     ]
    }
   ],
   "source": [
    "print(monarcas2010)"
   ]
  },
  {
   "cell_type": "markdown",
   "metadata": {},
   "source": [
    "15. Quita el último elemento de `monarcas2010`."
   ]
  },
  {
   "cell_type": "code",
   "execution_count": 21,
   "metadata": {},
   "outputs": [
    {
     "data": {
      "text/plain": [
       "('Luxemburgo', 'Henri')"
      ]
     },
     "execution_count": 21,
     "metadata": {},
     "output_type": "execute_result"
    }
   ],
   "source": [
    "monarcas2010.popitem()"
   ]
  },
  {
   "cell_type": "code",
   "execution_count": 22,
   "metadata": {},
   "outputs": [
    {
     "name": "stdout",
     "output_type": "stream",
     "text": [
      "{'Bélgica': 'Philippe', 'Dinamarca': 'Margrethe II', 'Holanda': 'Willem-Alexander', 'Noruega': 'Harald V', 'Reino Unido': 'Carlos III'}\n"
     ]
    }
   ],
   "source": [
    "print(monarcas2010)"
   ]
  },
  {
   "cell_type": "markdown",
   "metadata": {},
   "source": [
    "16. Vacia el dict `monarcas2010`.\n"
   ]
  },
  {
   "cell_type": "code",
   "execution_count": 23,
   "metadata": {},
   "outputs": [
    {
     "name": "stdout",
     "output_type": "stream",
     "text": [
      "{}\n"
     ]
    }
   ],
   "source": [
    "monarcas2010.clear()\n",
    "print(monarcas2010)"
   ]
  },
  {
   "cell_type": "markdown",
   "metadata": {},
   "source": [
    "17, ¿Qué festivo hay el 06/01?"
   ]
  },
  {
   "cell_type": "code",
   "execution_count": 24,
   "metadata": {},
   "outputs": [
    {
     "data": {
      "text/plain": [
       "'Epifanía del Señor'"
      ]
     },
     "execution_count": 24,
     "metadata": {},
     "output_type": "execute_result"
    }
   ],
   "source": [
    "festivos.get(\"06/01\")"
   ]
  },
  {
   "cell_type": "markdown",
   "metadata": {},
   "source": [
    "18. Obten el festivo que haya el 08/03, y en su defecto devuélve 'Día Internacional de la Mujer'."
   ]
  },
  {
   "cell_type": "code",
   "execution_count": 25,
   "metadata": {},
   "outputs": [
    {
     "data": {
      "text/plain": [
       "'Día Internacional de la Mujer'"
      ]
     },
     "execution_count": 25,
     "metadata": {},
     "output_type": "execute_result"
    }
   ],
   "source": [
    "festivos.get(\"08/03\", \"Día Internacional de la Mujer\")"
   ]
  },
  {
   "cell_type": "markdown",
   "metadata": {},
   "source": [
    "  19. Obten el festivo que haya el 31/11, y si no existe crea un par de clave-valor nuevo con el valor de 'Todos los Santos'."
   ]
  },
  {
   "cell_type": "code",
   "execution_count": 26,
   "metadata": {},
   "outputs": [
    {
     "data": {
      "text/plain": [
       "'Todos los Santos'"
      ]
     },
     "execution_count": 26,
     "metadata": {},
     "output_type": "execute_result"
    }
   ],
   "source": [
    "festivos.setdefault(\"31/11\", \"Todos los Santos\")"
   ]
  },
  {
   "cell_type": "code",
   "execution_count": 27,
   "metadata": {},
   "outputs": [
    {
     "name": "stdout",
     "output_type": "stream",
     "text": [
      "{'01/01': 'Año Nuevo', '06/01': 'Epifanía del Señor', '15/04': 'Viernes Santo', '15/08': 'Asunción de la Virgen', '12/10': 'Fiesta Nacional de España', '01/11': 'Todos los Santos', '06/12': 'Día de la Constitución Española', '08/12': 'Inmaculada Concepción', '31/11': 'Todos los Santos'}\n"
     ]
    }
   ],
   "source": [
    "print(festivos)"
   ]
  }
 ],
 "metadata": {
  "kernelspec": {
   "display_name": "base",
   "language": "python",
   "name": "python3"
  },
  "language_info": {
   "codemirror_mode": {
    "name": "ipython",
    "version": 3
   },
   "file_extension": ".py",
   "mimetype": "text/x-python",
   "name": "python",
   "nbconvert_exporter": "python",
   "pygments_lexer": "ipython3",
   "version": "3.9.7"
  }
 },
 "nbformat": 4,
 "nbformat_minor": 2
}
