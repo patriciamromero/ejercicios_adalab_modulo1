{
 "cells": [
  {
   "cell_type": "code",
   "execution_count": 49,
   "metadata": {},
   "outputs": [
    {
     "name": "stdout",
     "output_type": "stream",
     "text": [
      "holaquetal\n"
     ]
    }
   ],
   "source": [
    "#1\n",
    "frase = \"\"\n",
    "\n",
    "def concatenacion(*args):\n",
    "    for arg in args: \n",
    "       global frase \n",
    "       frase = frase +arg\n",
    "    return frase\n",
    "\n",
    "devuelve = concatenacion(\"hola\", \"que\", \"tal\")\n",
    "print(devuelve)\n",
    "    \n"
   ]
  },
  {
   "cell_type": "code",
   "execution_count": 51,
   "metadata": {},
   "outputs": [
    {
     "name": "stdout",
     "output_type": "stream",
     "text": [
      "120\n"
     ]
    }
   ],
   "source": [
    "#2 \n",
    "def producto(*args):\n",
    "    cuenta = 1\n",
    "    for i in args: \n",
    "        cuenta = cuenta * i\n",
    "    return cuenta \n",
    "\n",
    "print(producto(1,2,3,4,5))\n",
    "        \n",
    "        "
   ]
  },
  {
   "cell_type": "code",
   "execution_count": 58,
   "metadata": {},
   "outputs": [
    {
     "name": "stdout",
     "output_type": "stream",
     "text": [
      "_\n",
      "_\n"
     ]
    }
   ],
   "source": [
    "# 3\n",
    "def valores_minimos(**kwargs):\n",
    "    for i in kwargs: \n",
    "        minimo = min(min(i))\n",
    "        print(minimo)\n",
    "    return minimo \n",
    "\n",
    "print(valores_minimos(diccionario_de_diccionarios = {\n",
    "    \"frutas\": {\n",
    "        \"manzana\": 1,\n",
    "        \"plátano\": 2,\n",
    "        \"naranja\": 3,\n",
    "    },\n",
    "    \"colores\": {\n",
    "        \"rojo\": 4,\n",
    "        \"azul\": 5,\n",
    "        \"verde\": 6,\n",
    "    },\n",
    "    \"animales\": {\n",
    "        \"perro\": 7,\n",
    "        \"gato\": 8,\n",
    "        \"conejo\": 9,\n",
    "    },\n",
    "}))"
   ]
  },
  {
   "cell_type": "code",
   "execution_count": 64,
   "metadata": {},
   "outputs": [
    {
     "name": "stdout",
     "output_type": "stream",
     "text": [
      "{0: [1, 2, 3, 4, 5, 6, 7, 8, 9, 10, 11, 12, 13, 14, 15, 16, 17, 18], 1: [20, 21, 22, 23, 24, 25, 26, 27, 28]}\n"
     ]
    }
   ],
   "source": [
    "#4 \n",
    "\n",
    "def funcion_listas(*args): \n",
    "    diccionario = {}\n",
    "    indice = 0\n",
    "    for i in args: \n",
    "        diccionario[indice] = i \n",
    "        indice += 1\n",
    "    return diccionario \n",
    "\n",
    "print(funcion_listas(list(range(1,19)),list(range(20,29))))\n",
    "\n"
   ]
  },
  {
   "cell_type": "code",
   "execution_count": 68,
   "metadata": {},
   "outputs": [
    {
     "name": "stdout",
     "output_type": "stream",
     "text": [
      "25\n",
      "25.0\n",
      "78.53999999999999\n"
     ]
    }
   ],
   "source": [
    "#5 \n",
    "def area_figura(tipo = \"triangulo\", **kwargs):\n",
    "    if tipo == \"triangulo\": \n",
    "        return (kwargs[\"base\"] * kwargs[\"altura\"]) / 2\n",
    "    if tipo == \"cuadrado\": \n",
    "        return kwargs[\"lado\"] * kwargs[\"lado\"]\n",
    "    if tipo == \"circulo\": \n",
    "        pi = 3.1416 \n",
    "        return pi * (kwargs[\"radio\"] ** 2)\n",
    "\n",
    "print(area_figura(tipo=\"cuadrado\", lado=5))\n",
    "print(area_figura(tipo=\"triangulo\", base=5, altura=10))\n",
    "print(area_figura(tipo=\"circulo\", radio=5))\n",
    "    "
   ]
  },
  {
   "cell_type": "code",
   "execution_count": null,
   "metadata": {},
   "outputs": [],
   "source": []
  }
 ],
 "metadata": {
  "kernelspec": {
   "display_name": "base",
   "language": "python",
   "name": "python3"
  },
  "language_info": {
   "codemirror_mode": {
    "name": "ipython",
    "version": 3
   },
   "file_extension": ".py",
   "mimetype": "text/x-python",
   "name": "python",
   "nbconvert_exporter": "python",
   "pygments_lexer": "ipython3",
   "version": "3.9.7"
  }
 },
 "nbformat": 4,
 "nbformat_minor": 2
}
