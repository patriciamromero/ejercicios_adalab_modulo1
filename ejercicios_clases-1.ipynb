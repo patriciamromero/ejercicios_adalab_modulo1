{
 "cells": [
  {
   "cell_type": "code",
   "execution_count": 8,
   "metadata": {},
   "outputs": [],
   "source": [
    "class Vehiculo:\n",
    "    def __init__(self,marca, modelo, año, velocidad, encendido):\n",
    "        self.marca= marca\n",
    "        self.modelo = modelo\n",
    "        self.año = año\n",
    "        self.velocidad = velocidad\n",
    "        self.encendido = encendido\n",
    "\n",
    "\n",
    "coche = Vehiculo(\"kia\", \"ceed\", 2023, 120, True)\n"
   ]
  }
 ],
 "metadata": {
  "kernelspec": {
   "display_name": "base",
   "language": "python",
   "name": "python3"
  },
  "language_info": {
   "codemirror_mode": {
    "name": "ipython",
    "version": 3
   },
   "file_extension": ".py",
   "mimetype": "text/x-python",
   "name": "python",
   "nbconvert_exporter": "python",
   "pygments_lexer": "ipython3",
   "version": "3.9.7"
  }
 },
 "nbformat": 4,
 "nbformat_minor": 2
}
