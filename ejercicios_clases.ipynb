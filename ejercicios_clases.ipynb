{
 "cells": [
  {
   "cell_type": "code",
   "execution_count": 41,
   "metadata": {},
   "outputs": [
    {
     "data": {
      "text/plain": [
       "'gasolina'"
      ]
     },
     "execution_count": 41,
     "metadata": {},
     "output_type": "execute_result"
    }
   ],
   "source": [
    "class Vehiculo:\n",
    "    def __init__(self, marca, modelo, año):\n",
    "\n",
    "        self.marca = marca\n",
    "        self.modelo = modelo \n",
    "        self.año = año\n",
    "        self.encendido = False\n",
    "        self.velocidad = 0  \n",
    "\n",
    "    def informacion(self):\n",
    "\n",
    "        print(f\"El vehiculo es de la marca {self.marca}, el modelo es el {self.modelo} y es del año {self.año}\")\n",
    "\n",
    "    def encender(self):\n",
    "\n",
    "        if self.encendido == False:\n",
    "            self.encendido == True\n",
    "            return \"Se ha encendido el coche.\"\n",
    "        \n",
    "        else:\n",
    "            return \"El coche ya estaba encendido\"\n",
    "    \n",
    "    def apagar(self):\n",
    "\n",
    "        if self.encendido == True:\n",
    "            self.encendido == False\n",
    "            return \"Se ha apagado el coche\"\n",
    "        \n",
    "        else:\n",
    "\n",
    "            return \"El coche ya estaba apagado\"\n",
    "    \n",
    "    def acelerar(self, velocidad):\n",
    "\n",
    "        if self.encendido == True:\n",
    "            self.velocidad += 10\n",
    "        \n",
    "        else: \n",
    "            print(\"El coche está apagado no se puede acelerar\")\n",
    "    \n",
    "    def frenar(self, velocidad):\n",
    "\n",
    "        if self.encendido == True:\n",
    "            self.velocidad -= 10\n",
    "        \n",
    "        else: \n",
    "            print(\"El coche está apagado no se puede frenar\")\n",
    "    \n",
    "    def detener(self):\n",
    "\n",
    "        if self.encendido == True: \n",
    "            if self.velocidad > 0:\n",
    "                self.velocidad = 0\n",
    "        \n",
    "        else: \n",
    "            print(\"El coche ya está detenido\")\n",
    "\n",
    "\n",
    "class Coche(Vehiculo):\n",
    "    def __init__(self, marca, modelo, año, combustible):\n",
    "        self.combustible = combustible\n",
    "        super().__init__(marca, modelo, año)\n",
    "    \n",
    "    def informacion(self):\n",
    "         return f\"El coche es de la marca {self.marca}, el modelo {self.modelo}, del año {self.año} y usa combustible {self.combustible}\"\n",
    "\n",
    "Mi_coche = Coche(\"kia\", \"ceed\", 2023, \"gasolina\")\n",
    "\n",
    "Mi_coche.combustible\n"
   ]
  }
 ],
 "metadata": {
  "kernelspec": {
   "display_name": "base",
   "language": "python",
   "name": "python3"
  },
  "language_info": {
   "codemirror_mode": {
    "name": "ipython",
    "version": 3
   },
   "file_extension": ".py",
   "mimetype": "text/x-python",
   "name": "python",
   "nbconvert_exporter": "python",
   "pygments_lexer": "ipython3",
   "version": "3.9.7"
  }
 },
 "nbformat": 4,
 "nbformat_minor": 2
}
